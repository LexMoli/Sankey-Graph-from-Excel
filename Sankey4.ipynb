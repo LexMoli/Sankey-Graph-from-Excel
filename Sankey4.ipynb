{
 "cells": [
  {
   "cell_type": "code",
   "execution_count": 148,
   "metadata": {},
   "outputs": [
    {
     "name": "stderr",
     "output_type": "stream",
     "text": [
      "C:\\Users\\701267061\\AppData\\Roaming\\Python\\Python39\\site-packages\\openpyxl\\worksheet\\_reader.py:329: UserWarning:\n",
      "\n",
      "Data Validation extension is not supported and will be removed\n",
      "\n"
     ]
    },
    {
     "data": {
      "application/vnd.plotly.v1+json": {
       "config": {
        "plotlyServerURL": "https://plot.ly"
       },
       "data": [
        {
         "link": {
          "color": [
           "bisque",
           "bisque",
           "bisque",
           "pink",
           "pink",
           "pink",
           "lightgreen",
           "pink",
           "pink",
           "lightgreen",
           "pink",
           "lightgreen",
           "lightgreen",
           "bisque",
           "pink",
           "bisque",
           "bisque",
           "pink",
           "pink",
           "pink",
           "pink",
           "pink",
           "pink",
           "white"
          ],
          "source": [
           0,
           1,
           2,
           3,
           4,
           5,
           6,
           6,
           7,
           8,
           8,
           9,
           9,
           10,
           10,
           11,
           11,
           12,
           12,
           12,
           12,
           12,
           12,
           13
          ],
          "target": [
           2,
           2,
           6,
           6,
           6,
           6,
           14,
           8,
           10,
           9,
           10,
           15,
           16,
           11,
           12,
           17,
           13,
           18,
           19,
           20,
           21,
           22,
           23,
           24
          ],
          "value": [
           1000,
           1000,
           2000,
           800,
           2349,
           1000,
           1800,
           4349,
           500,
           1151,
           3198,
           731,
           420,
           1580,
           2118,
           1000,
           580,
           500,
           200,
           200,
           300,
           118,
           800,
           1000
          ]
         },
         "node": {
          "color": [
           "darkorange",
           "darkorange",
           "darkorange",
           "red",
           "red",
           "red",
           "red",
           "red",
           "red",
           "green",
           "red",
           "darkorange",
           "red",
           "darkorange",
           "green",
           "green",
           "green",
           "darkorange",
           "red",
           "red",
           "red",
           "red",
           "red",
           "red",
           "white"
          ],
          "label": [
           "A (1.0M)",
           "B (1.0M)",
           "C (2.0M)",
           "D (0.8M)",
           "E (2.3M)",
           "F (1.0M)",
           "2022 (6.1M)",
           "H (0.5M)",
           "2023 (4.3M)",
           "Y (1.2M)",
           "2024 (3.7M)",
           "L1 (1.6M)",
           "L2 (2.1M)",
           "M2 (1.0M)",
           "G (1.8M)",
           "J (0.7M)",
           "K (0.4M)",
           "M1 (1.0M)",
           "N1 (0.5M)",
           "N2 (0.2M)",
           "N3 (0.2M)",
           "N4 (0.3M)",
           "N5 (0.1M)",
           "N6 (0.8M)",
           "  (1.0M)"
          ],
          "line": {
           "color": "black",
           "width": 0
          },
          "pad": 50,
          "thickness": 20,
          "x": [
           0.02,
           0.02,
           0.18,
           0.18,
           0.18,
           0.18,
           0.34,
           0.47,
           0.47,
           0.6,
           0.6,
           0.7,
           0.7,
           0.95,
           0.47,
           0.7,
           0.7,
           0.95,
           0.95,
           0.95,
           0.95,
           0.95,
           0.95,
           0.95,
           4
          ],
          "y": [
           0.12,
           0.25,
           0.2,
           0.75,
           0.45,
           0.6,
           0.55,
           0.3,
           0.5,
           0.75,
           0.47,
           0.37,
           0.6,
           0.42,
           0.8,
           0.85,
           0.9,
           0.3,
           0.47,
           0.5,
           0.55,
           0.65,
           0.7,
           0.75,
           4
          ]
         },
         "type": "sankey"
        }
       ],
       "layout": {
        "font": {
         "size": 10
        },
        "height": 600,
        "template": {
         "data": {
          "bar": [
           {
            "error_x": {
             "color": "#2a3f5f"
            },
            "error_y": {
             "color": "#2a3f5f"
            },
            "marker": {
             "line": {
              "color": "#E5ECF6",
              "width": 0.5
             },
             "pattern": {
              "fillmode": "overlay",
              "size": 10,
              "solidity": 0.2
             }
            },
            "type": "bar"
           }
          ],
          "barpolar": [
           {
            "marker": {
             "line": {
              "color": "#E5ECF6",
              "width": 0.5
             },
             "pattern": {
              "fillmode": "overlay",
              "size": 10,
              "solidity": 0.2
             }
            },
            "type": "barpolar"
           }
          ],
          "carpet": [
           {
            "aaxis": {
             "endlinecolor": "#2a3f5f",
             "gridcolor": "white",
             "linecolor": "white",
             "minorgridcolor": "white",
             "startlinecolor": "#2a3f5f"
            },
            "baxis": {
             "endlinecolor": "#2a3f5f",
             "gridcolor": "white",
             "linecolor": "white",
             "minorgridcolor": "white",
             "startlinecolor": "#2a3f5f"
            },
            "type": "carpet"
           }
          ],
          "choropleth": [
           {
            "colorbar": {
             "outlinewidth": 0,
             "ticks": ""
            },
            "type": "choropleth"
           }
          ],
          "contour": [
           {
            "colorbar": {
             "outlinewidth": 0,
             "ticks": ""
            },
            "colorscale": [
             [
              0,
              "#0d0887"
             ],
             [
              0.1111111111111111,
              "#46039f"
             ],
             [
              0.2222222222222222,
              "#7201a8"
             ],
             [
              0.3333333333333333,
              "#9c179e"
             ],
             [
              0.4444444444444444,
              "#bd3786"
             ],
             [
              0.5555555555555556,
              "#d8576b"
             ],
             [
              0.6666666666666666,
              "#ed7953"
             ],
             [
              0.7777777777777778,
              "#fb9f3a"
             ],
             [
              0.8888888888888888,
              "#fdca26"
             ],
             [
              1,
              "#f0f921"
             ]
            ],
            "type": "contour"
           }
          ],
          "contourcarpet": [
           {
            "colorbar": {
             "outlinewidth": 0,
             "ticks": ""
            },
            "type": "contourcarpet"
           }
          ],
          "heatmap": [
           {
            "colorbar": {
             "outlinewidth": 0,
             "ticks": ""
            },
            "colorscale": [
             [
              0,
              "#0d0887"
             ],
             [
              0.1111111111111111,
              "#46039f"
             ],
             [
              0.2222222222222222,
              "#7201a8"
             ],
             [
              0.3333333333333333,
              "#9c179e"
             ],
             [
              0.4444444444444444,
              "#bd3786"
             ],
             [
              0.5555555555555556,
              "#d8576b"
             ],
             [
              0.6666666666666666,
              "#ed7953"
             ],
             [
              0.7777777777777778,
              "#fb9f3a"
             ],
             [
              0.8888888888888888,
              "#fdca26"
             ],
             [
              1,
              "#f0f921"
             ]
            ],
            "type": "heatmap"
           }
          ],
          "heatmapgl": [
           {
            "colorbar": {
             "outlinewidth": 0,
             "ticks": ""
            },
            "colorscale": [
             [
              0,
              "#0d0887"
             ],
             [
              0.1111111111111111,
              "#46039f"
             ],
             [
              0.2222222222222222,
              "#7201a8"
             ],
             [
              0.3333333333333333,
              "#9c179e"
             ],
             [
              0.4444444444444444,
              "#bd3786"
             ],
             [
              0.5555555555555556,
              "#d8576b"
             ],
             [
              0.6666666666666666,
              "#ed7953"
             ],
             [
              0.7777777777777778,
              "#fb9f3a"
             ],
             [
              0.8888888888888888,
              "#fdca26"
             ],
             [
              1,
              "#f0f921"
             ]
            ],
            "type": "heatmapgl"
           }
          ],
          "histogram": [
           {
            "marker": {
             "pattern": {
              "fillmode": "overlay",
              "size": 10,
              "solidity": 0.2
             }
            },
            "type": "histogram"
           }
          ],
          "histogram2d": [
           {
            "colorbar": {
             "outlinewidth": 0,
             "ticks": ""
            },
            "colorscale": [
             [
              0,
              "#0d0887"
             ],
             [
              0.1111111111111111,
              "#46039f"
             ],
             [
              0.2222222222222222,
              "#7201a8"
             ],
             [
              0.3333333333333333,
              "#9c179e"
             ],
             [
              0.4444444444444444,
              "#bd3786"
             ],
             [
              0.5555555555555556,
              "#d8576b"
             ],
             [
              0.6666666666666666,
              "#ed7953"
             ],
             [
              0.7777777777777778,
              "#fb9f3a"
             ],
             [
              0.8888888888888888,
              "#fdca26"
             ],
             [
              1,
              "#f0f921"
             ]
            ],
            "type": "histogram2d"
           }
          ],
          "histogram2dcontour": [
           {
            "colorbar": {
             "outlinewidth": 0,
             "ticks": ""
            },
            "colorscale": [
             [
              0,
              "#0d0887"
             ],
             [
              0.1111111111111111,
              "#46039f"
             ],
             [
              0.2222222222222222,
              "#7201a8"
             ],
             [
              0.3333333333333333,
              "#9c179e"
             ],
             [
              0.4444444444444444,
              "#bd3786"
             ],
             [
              0.5555555555555556,
              "#d8576b"
             ],
             [
              0.6666666666666666,
              "#ed7953"
             ],
             [
              0.7777777777777778,
              "#fb9f3a"
             ],
             [
              0.8888888888888888,
              "#fdca26"
             ],
             [
              1,
              "#f0f921"
             ]
            ],
            "type": "histogram2dcontour"
           }
          ],
          "mesh3d": [
           {
            "colorbar": {
             "outlinewidth": 0,
             "ticks": ""
            },
            "type": "mesh3d"
           }
          ],
          "parcoords": [
           {
            "line": {
             "colorbar": {
              "outlinewidth": 0,
              "ticks": ""
             }
            },
            "type": "parcoords"
           }
          ],
          "pie": [
           {
            "automargin": true,
            "type": "pie"
           }
          ],
          "scatter": [
           {
            "fillpattern": {
             "fillmode": "overlay",
             "size": 10,
             "solidity": 0.2
            },
            "type": "scatter"
           }
          ],
          "scatter3d": [
           {
            "line": {
             "colorbar": {
              "outlinewidth": 0,
              "ticks": ""
             }
            },
            "marker": {
             "colorbar": {
              "outlinewidth": 0,
              "ticks": ""
             }
            },
            "type": "scatter3d"
           }
          ],
          "scattercarpet": [
           {
            "marker": {
             "colorbar": {
              "outlinewidth": 0,
              "ticks": ""
             }
            },
            "type": "scattercarpet"
           }
          ],
          "scattergeo": [
           {
            "marker": {
             "colorbar": {
              "outlinewidth": 0,
              "ticks": ""
             }
            },
            "type": "scattergeo"
           }
          ],
          "scattergl": [
           {
            "marker": {
             "colorbar": {
              "outlinewidth": 0,
              "ticks": ""
             }
            },
            "type": "scattergl"
           }
          ],
          "scattermapbox": [
           {
            "marker": {
             "colorbar": {
              "outlinewidth": 0,
              "ticks": ""
             }
            },
            "type": "scattermapbox"
           }
          ],
          "scatterpolar": [
           {
            "marker": {
             "colorbar": {
              "outlinewidth": 0,
              "ticks": ""
             }
            },
            "type": "scatterpolar"
           }
          ],
          "scatterpolargl": [
           {
            "marker": {
             "colorbar": {
              "outlinewidth": 0,
              "ticks": ""
             }
            },
            "type": "scatterpolargl"
           }
          ],
          "scatterternary": [
           {
            "marker": {
             "colorbar": {
              "outlinewidth": 0,
              "ticks": ""
             }
            },
            "type": "scatterternary"
           }
          ],
          "surface": [
           {
            "colorbar": {
             "outlinewidth": 0,
             "ticks": ""
            },
            "colorscale": [
             [
              0,
              "#0d0887"
             ],
             [
              0.1111111111111111,
              "#46039f"
             ],
             [
              0.2222222222222222,
              "#7201a8"
             ],
             [
              0.3333333333333333,
              "#9c179e"
             ],
             [
              0.4444444444444444,
              "#bd3786"
             ],
             [
              0.5555555555555556,
              "#d8576b"
             ],
             [
              0.6666666666666666,
              "#ed7953"
             ],
             [
              0.7777777777777778,
              "#fb9f3a"
             ],
             [
              0.8888888888888888,
              "#fdca26"
             ],
             [
              1,
              "#f0f921"
             ]
            ],
            "type": "surface"
           }
          ],
          "table": [
           {
            "cells": {
             "fill": {
              "color": "#EBF0F8"
             },
             "line": {
              "color": "white"
             }
            },
            "header": {
             "fill": {
              "color": "#C8D4E3"
             },
             "line": {
              "color": "white"
             }
            },
            "type": "table"
           }
          ]
         },
         "layout": {
          "annotationdefaults": {
           "arrowcolor": "#2a3f5f",
           "arrowhead": 0,
           "arrowwidth": 1
          },
          "autotypenumbers": "strict",
          "coloraxis": {
           "colorbar": {
            "outlinewidth": 0,
            "ticks": ""
           }
          },
          "colorscale": {
           "diverging": [
            [
             0,
             "#8e0152"
            ],
            [
             0.1,
             "#c51b7d"
            ],
            [
             0.2,
             "#de77ae"
            ],
            [
             0.3,
             "#f1b6da"
            ],
            [
             0.4,
             "#fde0ef"
            ],
            [
             0.5,
             "#f7f7f7"
            ],
            [
             0.6,
             "#e6f5d0"
            ],
            [
             0.7,
             "#b8e186"
            ],
            [
             0.8,
             "#7fbc41"
            ],
            [
             0.9,
             "#4d9221"
            ],
            [
             1,
             "#276419"
            ]
           ],
           "sequential": [
            [
             0,
             "#0d0887"
            ],
            [
             0.1111111111111111,
             "#46039f"
            ],
            [
             0.2222222222222222,
             "#7201a8"
            ],
            [
             0.3333333333333333,
             "#9c179e"
            ],
            [
             0.4444444444444444,
             "#bd3786"
            ],
            [
             0.5555555555555556,
             "#d8576b"
            ],
            [
             0.6666666666666666,
             "#ed7953"
            ],
            [
             0.7777777777777778,
             "#fb9f3a"
            ],
            [
             0.8888888888888888,
             "#fdca26"
            ],
            [
             1,
             "#f0f921"
            ]
           ],
           "sequentialminus": [
            [
             0,
             "#0d0887"
            ],
            [
             0.1111111111111111,
             "#46039f"
            ],
            [
             0.2222222222222222,
             "#7201a8"
            ],
            [
             0.3333333333333333,
             "#9c179e"
            ],
            [
             0.4444444444444444,
             "#bd3786"
            ],
            [
             0.5555555555555556,
             "#d8576b"
            ],
            [
             0.6666666666666666,
             "#ed7953"
            ],
            [
             0.7777777777777778,
             "#fb9f3a"
            ],
            [
             0.8888888888888888,
             "#fdca26"
            ],
            [
             1,
             "#f0f921"
            ]
           ]
          },
          "colorway": [
           "#636efa",
           "#EF553B",
           "#00cc96",
           "#ab63fa",
           "#FFA15A",
           "#19d3f3",
           "#FF6692",
           "#B6E880",
           "#FF97FF",
           "#FECB52"
          ],
          "font": {
           "color": "#2a3f5f"
          },
          "geo": {
           "bgcolor": "white",
           "lakecolor": "white",
           "landcolor": "#E5ECF6",
           "showlakes": true,
           "showland": true,
           "subunitcolor": "white"
          },
          "hoverlabel": {
           "align": "left"
          },
          "hovermode": "closest",
          "mapbox": {
           "style": "light"
          },
          "paper_bgcolor": "white",
          "plot_bgcolor": "#E5ECF6",
          "polar": {
           "angularaxis": {
            "gridcolor": "white",
            "linecolor": "white",
            "ticks": ""
           },
           "bgcolor": "#E5ECF6",
           "radialaxis": {
            "gridcolor": "white",
            "linecolor": "white",
            "ticks": ""
           }
          },
          "scene": {
           "xaxis": {
            "backgroundcolor": "#E5ECF6",
            "gridcolor": "white",
            "gridwidth": 2,
            "linecolor": "white",
            "showbackground": true,
            "ticks": "",
            "zerolinecolor": "white"
           },
           "yaxis": {
            "backgroundcolor": "#E5ECF6",
            "gridcolor": "white",
            "gridwidth": 2,
            "linecolor": "white",
            "showbackground": true,
            "ticks": "",
            "zerolinecolor": "white"
           },
           "zaxis": {
            "backgroundcolor": "#E5ECF6",
            "gridcolor": "white",
            "gridwidth": 2,
            "linecolor": "white",
            "showbackground": true,
            "ticks": "",
            "zerolinecolor": "white"
           }
          },
          "shapedefaults": {
           "line": {
            "color": "#2a3f5f"
           }
          },
          "ternary": {
           "aaxis": {
            "gridcolor": "white",
            "linecolor": "white",
            "ticks": ""
           },
           "baxis": {
            "gridcolor": "white",
            "linecolor": "white",
            "ticks": ""
           },
           "bgcolor": "#E5ECF6",
           "caxis": {
            "gridcolor": "white",
            "linecolor": "white",
            "ticks": ""
           }
          },
          "title": {
           "x": 0.05
          },
          "xaxis": {
           "automargin": true,
           "gridcolor": "white",
           "linecolor": "white",
           "ticks": "",
           "title": {
            "standoff": 15
           },
           "zerolinecolor": "white",
           "zerolinewidth": 2
          },
          "yaxis": {
           "automargin": true,
           "gridcolor": "white",
           "linecolor": "white",
           "ticks": "",
           "title": {
            "standoff": 15
           },
           "zerolinecolor": "white",
           "zerolinewidth": 2
          }
         }
        },
        "title": {
         "text": "BC"
        },
        "width": 1000
       }
      }
     },
     "metadata": {},
     "output_type": "display_data"
    }
   ],
   "source": [
    "import pandas as pd\n",
    "import plotly.graph_objects as go\n",
    "import numpy as np\n",
    "import matplotlib.colors as mcolors\n",
    "\n",
    "#crea la función DibujaSandKey a la que se le pasa como parametro el nombre de la pestaña del archivo excel y el titulo del grafico\n",
    "def DibujaSankey(sheet, titulo):\n",
    "    \n",
    "    # Preparar datos para el gráfico Sankey\n",
    "    def format_value(value):\n",
    "        return f\"{value / 1000:.1f}M\"\n",
    "    \n",
    "    # Leer datos desde el archivo Excel \n",
    "\n",
    "    # Ruta del archivo Excel\n",
    "    file_path = \"C:\\\\Users\\\\701267061\\\\Downloads\\\\EjSandkeydata.xlsx\"\n",
    "\n",
    "    df = pd.read_excel(file_path, sheet_name=sheet, dtype={'x': float, 'y': float}, usecols=\"A:G\")\n",
    "    \n",
    "    #crear un dataframe dfEnd con las lineas con destino \"END\", ASi fijamos coordenadas y colores a Nodos finales\n",
    "    dfEnd = df.loc[df['target'] == \"END\"]\n",
    "    #eliminar del DataFrame original las lineas con destino \"END\"\n",
    "    df = df.loc[df['target'] != \"END\"]\n",
    "\n",
    "    sources = []\n",
    "    targets = []\n",
    "    values = []\n",
    "    link_colors = []\n",
    "    node_colors = {}\n",
    "    node_positions = {}\n",
    "    \n",
    "    # Ordenar los nodos únicos según el orden en el DataFrame\n",
    "    unique_nodes = pd.concat([df['source'], df['target']]).drop_duplicates().tolist()\n",
    "\n",
    "    for index, row in df.iterrows():\n",
    "        source = row['source']\n",
    "        target = row['target']\n",
    "        value = row['value']\n",
    "        color = row['color']\n",
    "        link_color = row['link_color']\n",
    "        x = row['x']\n",
    "        y = row['y']\n",
    "        source_index = unique_nodes.index(source)\n",
    "        target_index = unique_nodes.index(target)\n",
    "\n",
    "        sources.append(source_index)\n",
    "        targets.append(target_index)\n",
    "        values.append(value)\n",
    "        link_colors.append(link_color)\n",
    "        node_colors[source] = color\n",
    "    \n",
    "        if not np.isnan(x) and not np.isnan(y):\n",
    "            node_positions[source] = (x, y)\n",
    "            \n",
    "    # para los Nodos que estan en dfEnd, iguala la node_position[\"Nodo\"] a las X e Y del dataframe dfEnd y\n",
    "    # el node_colors[\"Nodo\"] al color del dataframe dfEnd\n",
    "    for index, row in dfEnd.iterrows():\n",
    "        source = row['source']\n",
    "        x = row['x']\n",
    "        y = row['y']\n",
    "        color = row['color']\n",
    "        if not np.isnan(x) and not np.isnan(y):\n",
    "            node_positions[source] = (x, y)\n",
    "        if not pd.isnull(color):\n",
    "            node_colors[source] = color\n",
    "            \n",
    "    node_colors_list = [node_colors.get(node, 'red') for node in unique_nodes]\n",
    "\n",
    "    # Calcular la suma de valores para cada nodo tanto para los nodos de origen como para los nodos finales\n",
    "    node_values = {node: sum(df.loc[df['source'] == node, 'value']) for node in unique_nodes}\n",
    "    for node in unique_nodes:\n",
    "        if node not in df['source'].tolist():\n",
    "            node_values[node] += sum(df.loc[df['target'] == node, 'value'])\n",
    "    \n",
    "    # Crear gráfico Sankey\n",
    "    fig = go.Figure(data=[go.Sankey(\n",
    "        node=dict(\n",
    "            pad=50,\n",
    "            thickness=20,\n",
    "            line=dict(color=\"black\", width=0),\n",
    "            label=[f\"{node} ({format_value(node_values[node])})\" for node in unique_nodes],\n",
    "            color=node_colors_list,\n",
    "            x=[node_positions[node][0] if node in node_positions else None for node in unique_nodes],\n",
    "            y=[node_positions[node][1] if node in node_positions else None for node in unique_nodes],\n",
    "\n",
    "        ),\n",
    "\n",
    "        link=dict(\n",
    "            source=sources,\n",
    "            target=targets,\n",
    "            value=values,\n",
    "            color=link_colors\n",
    "        )\n",
    "    )])\n",
    "    # Agregar líneas de cuadrícula horizontales\n",
    "    # fig.add_trace(go.Scatter(\n",
    "    #     x=[0, 1],\n",
    "    #     y=[0, 1],\n",
    "    #     mode='markers',\n",
    "    #     marker=dict(opacity=0, size=0),\n",
    "    #     showlegend=False,\n",
    "    #     hoverinfo='none'\n",
    "    # ))\n",
    "    \n",
    "    fig.update_layout(title_text=titulo, font_size=10, width=1000, height=600)\n",
    "    fig.show()\n",
    "\n",
    "#llama al la funcion DibujaSankey con un par de pestañas con los datos preparados\n",
    "\n",
    "DibujaSankey (\"HojaFake\", \"BC\")\n"
   ]
  }
 ],
 "metadata": {
  "kernelspec": {
   "display_name": "Python 3",
   "language": "python",
   "name": "python3"
  },
  "language_info": {
   "codemirror_mode": {
    "name": "ipython",
    "version": 3
   },
   "file_extension": ".py",
   "mimetype": "text/x-python",
   "name": "python",
   "nbconvert_exporter": "python",
   "pygments_lexer": "ipython3",
   "version": "3.9.4"
  },
  "orig_nbformat": 4
 },
 "nbformat": 4,
 "nbformat_minor": 2
}
